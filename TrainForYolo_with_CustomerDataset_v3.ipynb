{
  "cells": [
    {
      "cell_type": "code",
      "execution_count": 1,
      "metadata": {
        "colab": {
          "base_uri": "https://localhost:8080/"
        },
        "id": "SXijH-ueMtqH",
        "outputId": "633bbbbf-c60a-4ae6-d885-3b4979bf4f16"
      },
      "outputs": [
        {
          "output_type": "stream",
          "name": "stdout",
          "text": [
            "Mounted at /content/drive\n",
            "/content/drive/MyDrive/Price_Board_Recognition/PriceSignRecognitionTest20230803/12192022\n",
            "'~$dataset_rev_12082022.xlsx'   dataset_rev_12082022.xlsx   \u001b[0m\u001b[01;34mlabels\u001b[0m/    \u001b[01;34mtrain\u001b[0m/\n",
            " classes.docx                   data.yml                    \u001b[01;34mscripts\u001b[0m/   \u001b[01;34mvalid\u001b[0m/\n",
            " classes.txt                    \u001b[01;34mimages\u001b[0m/                     \u001b[01;34mtest\u001b[0m/      \u001b[01;34myolov5\u001b[0m/\n"
          ]
        }
      ],
      "source": [
        "# Step 1: Load the customized dataset.\n",
        "from google.colab import drive\n",
        "drive.mount('/content/drive', force_remount=True)\n",
        "%cd /content/drive/MyDrive/Price_Board_Recognition/PriceSignRecognitionTest20230803/12192022\n",
        "%ls"
      ]
    },
    {
      "cell_type": "code",
      "execution_count": null,
      "metadata": {
        "colab": {
          "base_uri": "https://localhost:8080/"
        },
        "id": "jzqK-uELN755",
        "outputId": "226370b0-0168-4b96-a025-995284ca73ae"
      },
      "outputs": [
        {
          "name": "stdout",
          "output_type": "stream",
          "text": [
            "/content/drive/MyDrive/Price_Board_Recognition/PriceSignRecognitionTest20230803/12192022/yolov5\n",
            "Setup complete. Using torch 2.0.1+cu118 (Tesla T4)\n"
          ]
        }
      ],
      "source": [
        "# Step 2: Install YOLO v5.\n",
        "#clone YOLO v5 and\n",
        "# !git clone https://github.com/ultralytics/yolov5  # clone repo\n",
        "%cd yolov5\n",
        "%pip install -qr requirements.txt # install dependencies\n",
        "\n",
        "import torch\n",
        "import os\n",
        "from IPython.display import Image, clear_output  # to display images\n",
        "\n",
        "print(f\"Setup complete. Using torch {torch.__version__} ({torch.cuda.get_device_properties(0).name if torch.cuda.is_available() else 'CPU'})\")\n",
        "\n"
      ]
    },
    {
      "cell_type": "code",
      "execution_count": null,
      "metadata": {
        "colab": {
          "base_uri": "https://localhost:8080/"
        },
        "id": "nEssw5b0VjHO",
        "outputId": "2aa16d65-a19e-4a5c-f699-8c75431254a0"
      },
      "outputs": [
        {
          "name": "stdout",
          "output_type": "stream",
          "text": [
            "benchmarks.py    \u001b[0m\u001b[01;34mdata\u001b[0m/       \u001b[01;34mmodels\u001b[0m/           \u001b[01;34mruns\u001b[0m/           \u001b[01;34mutils\u001b[0m/\n",
            "best.pt          detect.py   \u001b[01;34m__pycache__\u001b[0m/      \u001b[01;34msegment\u001b[0m/        val.py\n",
            "CITATION.cff     export.py   README.md         setup.cfg       yolov5s.pt\n",
            "\u001b[01;34mclassify\u001b[0m/        hubconf.py  README.zh-CN.md   train.py\n",
            "CONTRIBUTING.md  LICENSE     requirements.txt  tutorial.ipynb\n",
            "Traceback (most recent call last):\n",
            "  File \"/content/drive/MyDrive/Price_Board_Recognition/PriceSignRecognitionTest20230803/12192022/yolov5/train.py\", line 48, in <module>\n",
            "    import val as validate  # for end-of-epoch mAP\n",
            "  File \"/content/drive/MyDrive/Price_Board_Recognition/PriceSignRecognitionTest20230803/12192022/yolov5/val.py\", line 39, in <module>\n",
            "^C\n"
          ]
        }
      ],
      "source": [
        "# Step 3: Train the system\n",
        "# %cd ../   # Return back to parent directory.\n",
        "%pwd\n",
        "%ls\n",
        "!python train.py --imgs 640 --batch 1 --epochs 20   --data ../data.yml --weights yolov5s.pt\n",
        "# !python train.py --imgs 640 --batch 1 --epochs 60   --data ../data.yml --weights yolov5s.pt"
      ]
    },
    {
      "cell_type": "code",
      "execution_count": null,
      "metadata": {
        "colab": {
          "base_uri": "https://localhost:8080/"
        },
        "id": "nbVTsJmulAqu",
        "outputId": "51f63efa-b309-4cba-9dc9-bfa385750657"
      },
      "outputs": [
        {
          "name": "stdout",
          "output_type": "stream",
          "text": [
            "WARNING ⚠️ 'ultralytics.yolo.v8' is deprecated since '8.0.136' and will be removed in '8.1.0'. Please use 'ultralytics.models.yolo' instead.\n",
            "WARNING ⚠️ 'ultralytics.yolo.utils' is deprecated since '8.0.136' and will be removed in '8.1.0'. Please use 'ultralytics.utils' instead.\n",
            "Note this warning may be related to loading older models. You can update your model to current structure with:\n",
            "    import torch\n",
            "    ckpt = torch.load(\"model.pt\")  # applies to both official and custom models\n",
            "    torch.save(ckpt, \"updated-model.pt\")\n",
            "\n",
            "\u001b[34m\u001b[1mdetect: \u001b[0mweights=['runs/train/exp2/weights/best.pt'], source=../test/images/Circle_K_137.jpg, data=data/coco128.yaml, imgsz=[640, 640], conf_thres=0.88, iou_thres=0.45, max_det=1000, device=, view_img=False, save_txt=False, save_conf=False, save_crop=False, nosave=False, classes=None, agnostic_nms=False, augment=False, visualize=False, update=False, project=runs/detect, name=exp, exist_ok=False, line_thickness=3, hide_labels=False, hide_conf=False, half=False, dnn=False, vid_stride=1\n",
            "YOLOv5 🚀 v7.0-196-gacdf73b Python-3.10.12 torch-2.0.1+cu118 CUDA:0 (Tesla T4, 15102MiB)\n",
            "\n",
            "Fusing layers... \n",
            "Model summary: 157 layers, 7252855 parameters, 0 gradients, 16.5 GFLOPs\n",
            "Traceback (most recent call last):\n",
            "  File \"/content/drive/MyDrive/Price_Board_Recognition/PriceSignRecognitionTest20230803/12192022/yolov5/detect.py\", line 261, in <module>\n",
            "    main(opt)\n",
            "  File \"/content/drive/MyDrive/Price_Board_Recognition/PriceSignRecognitionTest20230803/12192022/yolov5/detect.py\", line 256, in main\n",
            "    run(**vars(opt))\n",
            "  File \"/usr/local/lib/python3.10/dist-packages/torch/utils/_contextlib.py\", line 115, in decorate_context\n",
            "    return func(*args, **kwargs)\n",
            "  File \"/content/drive/MyDrive/Price_Board_Recognition/PriceSignRecognitionTest20230803/12192022/yolov5/detect.py\", line 111, in run\n",
            "    dataset = LoadImages(source, img_size=imgsz, stride=stride, auto=pt, vid_stride=vid_stride)\n",
            "  File \"/content/drive/MyDrive/Price_Board_Recognition/PriceSignRecognitionTest20230803/12192022/yolov5/utils/dataloaders.py\", line 254, in __init__\n",
            "    raise FileNotFoundError(f'{p} does not exist')\n",
            "FileNotFoundError: /content/drive/MyDrive/Price_Board_Recognition/PriceSignRecognitionTest20230803/12192022/test/images/Circle_K_137.jpg does not exist\n"
          ]
        }
      ],
      "source": [
        "# Step 4: Test\n",
        "# %ls runs/train/exp/weights\n",
        "# # %ls ../test/images/*\n",
        "# !python detect.py --weights runs/train/exp2/weights/best.pt --source ../test/images/shell_153.jpg --conf-thres 0.88\n",
        "# !python detect.py --weights runs/train/exp/weights/best.pt --source ../test/images/chevron_142.jpg --conf-thres 0.88\n",
        "# !python detect.py --weights runs/train/exp/weights/best.pt --source ../test/images/exxon_159.jpg --conf-thres 0.88\n",
        "# !python detect.py --weights runs/train/exp/weights/best.pt --source ../test/1691052188174.jpeg --conf-thres 0.88\n",
        "# !python detect.py --weights runs/train/exp2/weights/best.pt --source ../test/images/chevron_141.jpg --conf-thres 0.88\n",
        "# !python detect.py --weights runs/train/exp2/weights/best.pt --source ../test/images/chevron_260.jpg --conf-thres 0.88 # Work\n",
        "# BP need re-label and train\n",
        "# #MARATHON_1211\n",
        "# !python detect.py --weights runs/train/exp2/weights/best.pt --source ../test/images/MARATHON_1211.jpg --conf-thres 0.88\n",
        "# CENEX\n",
        "# !python detect.py --weights runs/train/exp2/weights/best.pt --source ../test/images/CENEX_141.jpg --conf-thres 0.88\n",
        "# Circle_K\n",
        "!python detect.py --weights runs/train/exp2/weights/best.pt --source ../test/images/Circle_K_137.jpg --conf-thres 0.88\n",
        "\n",
        "\n",
        "\n",
        "\n",
        "# %ls\n",
        "# %cd yolov5\n",
        "#  Export to TFlow\n",
        "# !python export.py --weights runs/train/exp/weights/best.pt --include tflite\n",
        "# !python export.py --weights runs/train/exp2/weights/best.pt --include torchscript --optimize"
      ]
    },
    {
      "cell_type": "code",
      "execution_count": null,
      "metadata": {
        "colab": {
          "base_uri": "https://localhost:8080/"
        },
        "id": "E5jabkkGx_xR",
        "outputId": "904dc741-7ceb-4293-9c2e-692bf381be30"
      },
      "outputs": [
        {
          "name": "stdout",
          "output_type": "stream",
          "text": [
            "WARNING ⚠️ 'ultralytics.yolo.v8' is deprecated since '8.0.136' and will be removed in '8.1.0'. Please use 'ultralytics.models.yolo' instead.\n",
            "WARNING ⚠️ 'ultralytics.yolo.utils' is deprecated since '8.0.136' and will be removed in '8.1.0'. Please use 'ultralytics.utils' instead.\n",
            "Note this warning may be related to loading older models. You can update your model to current structure with:\n",
            "    import torch\n",
            "    ckpt = torch.load(\"model.pt\")  # applies to both official and custom models\n",
            "    torch.save(ckpt, \"updated-model.pt\")\n",
            "\n",
            "\u001b[34m\u001b[1mdetect: \u001b[0mweights=['runs/train/exp/weights/best.pt'], source=../test/images/shell_121.jpg, data=data/coco128.yaml, imgsz=[640, 640], conf_thres=0.88, iou_thres=0.45, max_det=1000, device=, view_img=False, save_txt=False, save_conf=False, save_crop=False, nosave=False, classes=None, agnostic_nms=False, augment=False, visualize=False, update=False, project=runs/detect, name=exp, exist_ok=False, line_thickness=3, hide_labels=False, hide_conf=False, half=False, dnn=False, vid_stride=1\n",
            "YOLOv5 🚀 v7.0-196-gacdf73b Python-3.10.12 torch-2.0.1+cu118 CUDA:0 (Tesla T4, 15102MiB)\n",
            "\n",
            "Fusing layers... \n",
            "Model summary: 157 layers, 7252855 parameters, 0 gradients, 16.5 GFLOPs\n",
            "Traceback (most recent call last):\n",
            "  File \"/content/drive/MyDrive/Price_Board_Recognition/PriceSignRecognitionTest20230803/12192022/yolov5/detect.py\", line 261, in <module>\n",
            "    main(opt)\n",
            "  File \"/content/drive/MyDrive/Price_Board_Recognition/PriceSignRecognitionTest20230803/12192022/yolov5/detect.py\", line 256, in main\n",
            "    run(**vars(opt))\n",
            "  File \"/usr/local/lib/python3.10/dist-packages/torch/utils/_contextlib.py\", line 115, in decorate_context\n",
            "    return func(*args, **kwargs)\n",
            "  File \"/content/drive/MyDrive/Price_Board_Recognition/PriceSignRecognitionTest20230803/12192022/yolov5/detect.py\", line 111, in run\n",
            "    dataset = LoadImages(source, img_size=imgsz, stride=stride, auto=pt, vid_stride=vid_stride)\n",
            "  File \"/content/drive/MyDrive/Price_Board_Recognition/PriceSignRecognitionTest20230803/12192022/yolov5/utils/dataloaders.py\", line 254, in __init__\n",
            "    raise FileNotFoundError(f'{p} does not exist')\n",
            "FileNotFoundError: /content/drive/MyDrive/Price_Board_Recognition/PriceSignRecognitionTest20230803/12192022/test/images/shell_121.jpg does not exist\n",
            "benchmarks.py    \u001b[0m\u001b[01;34mdata\u001b[0m/       \u001b[01;34mmodels\u001b[0m/           \u001b[01;34mruns\u001b[0m/           \u001b[01;34mutils\u001b[0m/\n",
            "best.pt          detect.py   \u001b[01;34m__pycache__\u001b[0m/      \u001b[01;34msegment\u001b[0m/        val.py\n",
            "CITATION.cff     export.py   README.md         setup.cfg       yolov5s.pt\n",
            "\u001b[01;34mclassify\u001b[0m/        hubconf.py  README.zh-CN.md   train.py\n",
            "CONTRIBUTING.md  LICENSE     requirements.txt  tutorial.ipynb\n"
          ]
        }
      ],
      "source": [
        "# Step 4: Test\n",
        "# %ls runs/train/exp/weights\n",
        "# %ls ../test/images/*\n",
        "!python detect.py --weights runs/train/exp/weights/best.pt --source ../test/images/shell_121.jpg --conf-thres 0.88\n",
        "# !python detect.py --weights runs/train/exp/weights/best.pt --source ../test/images/chevron_142.jpg --conf-thres 0.88\n",
        "# !python detect.py --weights runs/train/exp/weights/best.pt --source ../test/images/exxon_159.jpg --conf-thres 0.88\n",
        "# Test for other brands\n",
        "# 7-Eleven\n",
        "!python detect.py --weights runs/train/exp/weights/best.pt --source ../test/images/7-ELEVEN_69.png --conf-thres 0.88\n",
        "\n",
        "%ls\n",
        "# %cd yolov5\n",
        "#  Export to TFlow\n",
        "# !python export.py --weights runs/train/exp/weights/best.pt --include tflite\n",
        "# !python export.py --weights runs/train/exp/weights/best.pt --include torchscript --optimize"
      ]
    }
  ],
  "metadata": {
    "accelerator": "GPU",
    "colab": {
      "provenance": []
    },
    "kernelspec": {
      "display_name": "Python 3",
      "name": "python3"
    },
    "language_info": {
      "name": "python"
    }
  },
  "nbformat": 4,
  "nbformat_minor": 0
}